{
 "cells": [
  {
   "cell_type": "markdown",
   "metadata": {},
   "source": [
    "# `qcardia-models` tutorial"
   ]
  },
  {
   "cell_type": "code",
   "execution_count": 1,
   "metadata": {},
   "outputs": [],
   "source": [
    "from pathlib import Path\n",
    "\n",
    "import torch\n",
    "import yaml\n",
    "\n",
    "from qcardia_models.losses import DiceCELoss, EarlyStopper, MultiScaleLoss, NTXentLoss\n",
    "from qcardia_models.metrics import DiceMetric\n",
    "from qcardia_models.models import EncoderMLP2d, UNet2d\n",
    "from qcardia_models.utils import seed_everything"
   ]
  },
  {
   "cell_type": "markdown",
   "metadata": {},
   "source": [
    "# U-Net"
   ]
  },
  {
   "cell_type": "code",
   "execution_count": 2,
   "metadata": {},
   "outputs": [],
   "source": [
    "# get config dict from file\n",
    "unet_config_path = Path(\"unet-config.yaml\")\n",
    "unet_config = yaml.load(unet_config_path.open(), Loader=yaml.FullLoader)"
   ]
  },
  {
   "cell_type": "markdown",
   "metadata": {},
   "source": [
    "### Dummy data"
   ]
  },
  {
   "cell_type": "code",
   "execution_count": 3,
   "metadata": {},
   "outputs": [
    {
     "name": "stdout",
     "output_type": "stream",
     "text": [
      "images shape: torch.Size([4, 1, 64, 64])\n",
      "labels shape: torch.Size([4, 4, 64, 64])\n",
      "position shape: torch.Size([4])\n"
     ]
    }
   ],
   "source": [
    "# attributes of random dummy data for demo\n",
    "nr_input_channels = unet_config[\"unet\"][\"nr_image_channels\"]\n",
    "nr_output_channels = unet_config[\"unet\"][\"nr_output_classes\"]\n",
    "height, width = 64, 64\n",
    "batch_size = 4\n",
    "\n",
    "# image batch with one channel\n",
    "images = torch.rand(batch_size, nr_input_channels, height, width)\n",
    "\n",
    "# label batch with one-hot encoding\n",
    "labels = torch.zeros((batch_size, nr_output_channels, height, width))\n",
    "idxs = torch.randint(0, nr_output_channels, (batch_size, 1, height, width))\n",
    "labels = torch.scatter(labels, 1, idxs, 1.0)\n",
    "\n",
    "# position labels for positional contrastive loss (normalized positions), with every two\n",
    "# images sharing the same position, simulated by the repeat_interleave function.\n",
    "position_labels = torch.rand(batch_size // 2).repeat_interleave(2)\n",
    "\n",
    "print(f\"images shape: {images.shape}\")\n",
    "print(f\"labels shape: {labels.shape}\")\n",
    "print(f\"position shape: {position_labels.shape}\")"
   ]
  },
  {
   "cell_type": "markdown",
   "metadata": {},
   "source": [
    "### Model\n",
    "Only shows how to initialize and then use the model. For model visualization: `model_visualization.ipynb`"
   ]
  },
  {
   "cell_type": "code",
   "execution_count": 4,
   "metadata": {},
   "outputs": [],
   "source": [
    "# 2D U-Net model\n",
    "unet_model = UNet2d(\n",
    "    nr_input_channels=unet_config[\"unet\"][\"nr_image_channels\"],\n",
    "    channels_list=unet_config[\"unet\"][\"channels_list\"],\n",
    "    nr_output_classes=unet_config[\"unet\"][\"nr_output_classes\"],\n",
    "    nr_output_scales=unet_config[\"unet\"][\"nr_output_scales\"],\n",
    ")\n",
    "\n",
    "# Setting gradients to temporary freeze/unfreeze encoder (finetuning)\n",
    "unet_model.set_encoder_requires_grad(False)  # freeze encoder\n",
    "unet_model.set_encoder_requires_grad(True)  # unfreeze encoder"
   ]
  },
  {
   "cell_type": "code",
   "execution_count": 5,
   "metadata": {},
   "outputs": [
    {
     "name": "stdout",
     "output_type": "stream",
     "text": [
      "outputs list length: 6, with shapes:\n",
      "  0\ttorch.Size([4, 4, 64, 64])\n",
      "  1\ttorch.Size([4, 4, 32, 32])\n",
      "  2\ttorch.Size([4, 4, 16, 16])\n",
      "  3\ttorch.Size([4, 4, 8, 8])\n",
      "  4\ttorch.Size([4, 4, 4, 4])\n",
      "  5\ttorch.Size([4, 4, 2, 2])\n",
      "\n",
      "nr_output_scales: -1\n"
     ]
    }
   ],
   "source": [
    "# forward pass to get\n",
    "outputs = unet_model(images)\n",
    "print(f\"outputs list length: {len(outputs)}, with shapes:\")\n",
    "for i, output in enumerate(outputs):\n",
    "    print(f\"  {i}\\t{output.shape}\")\n",
    "\n",
    "# length of list depends on nr_output_scales setting, indicating how many scales\n",
    "# (decoder blocks) should give an output. Negative numbers reduce the number of scales\n",
    "# by that amount, starting with ommiting the deepest scales.\n",
    "nr_output_scales = unet_config[\"unet\"][\"nr_output_scales\"]\n",
    "print(f\"\\nnr_output_scales: {nr_output_scales}\")"
   ]
  },
  {
   "cell_type": "markdown",
   "metadata": {},
   "source": [
    "### Loss"
   ]
  },
  {
   "cell_type": "code",
   "execution_count": 6,
   "metadata": {},
   "outputs": [
    {
     "name": "stdout",
     "output_type": "stream",
     "text": [
      "total loss: 1.104\n",
      "ce loss component: 1.449\n",
      "dice loss component: 0.759\n"
     ]
    }
   ],
   "source": [
    "# Dice and CrossEntropy loss for deep supervision\n",
    "loss_function = MultiScaleLoss(\n",
    "    loss_function=DiceCELoss(\n",
    "        cross_entropy_loss_weight=unet_config[\"loss\"][\"cross_entropy_loss_weight\"],\n",
    "        dice_loss_weight=unet_config[\"loss\"][\"dice_loss_weight\"],\n",
    "        dice_classes_weights=unet_config[\"loss\"][\"dice_classes_weights\"],\n",
    "    ),\n",
    ")\n",
    "\n",
    "loss, ce_loss, dice_loss = loss_function(outputs, labels)\n",
    "\n",
    "print(f\"total loss: {loss.item():0.3f}\")\n",
    "print(f\"ce loss component: {ce_loss.item():0.3f}\")\n",
    "print(f\"dice loss component: {dice_loss.item():0.3f}\")"
   ]
  },
  {
   "cell_type": "markdown",
   "metadata": {},
   "source": [
    "### Metric"
   ]
  },
  {
   "cell_type": "code",
   "execution_count": 7,
   "metadata": {},
   "outputs": [
    {
     "name": "stdout",
     "output_type": "stream",
     "text": [
      "dice scores: tensor([0.0634, 0.1986, 0.3389])\n",
      "dice mean: 0.200\n"
     ]
    }
   ],
   "source": [
    "# Dice metric for specified classes\n",
    "dice_metric = DiceMetric(unet_config[\"metrics\"][\"dice_class_idxs\"])\n",
    "\n",
    "dice_scores = dice_metric(outputs[0], labels)\n",
    "print(f\"dice scores: {dice_scores}\")  # only include classes in dice_class_idxs\n",
    "print(f\"dice mean: {dice_scores.mean().item():0.3f}\")"
   ]
  },
  {
   "cell_type": "markdown",
   "metadata": {},
   "source": [
    "# Encoder + MLP"
   ]
  },
  {
   "cell_type": "code",
   "execution_count": 8,
   "metadata": {},
   "outputs": [],
   "source": [
    "# get config dict from file\n",
    "encodermlp_config_path = Path(\"encodermlp-config.yaml\")\n",
    "encodermlp_config = yaml.load(encodermlp_config_path.open(), Loader=yaml.FullLoader)"
   ]
  },
  {
   "cell_type": "markdown",
   "metadata": {},
   "source": [
    "### Model\n",
    "Only shows how to initialize and then use the model. For model visualization: `model_visualization.ipynb`"
   ]
  },
  {
   "cell_type": "code",
   "execution_count": 9,
   "metadata": {},
   "outputs": [],
   "source": [
    "# 2D Encoder-MLP model\n",
    "encodermlp_model = EncoderMLP2d(\n",
    "    nr_input_channels=encodermlp_config[\"encoder\"][\"nr_image_channels\"],\n",
    "    encoder_channels_list=encodermlp_config[\"encoder\"][\"channels_list\"],\n",
    "    mlp_channels_list=encodermlp_config[\"mlp\"][\"channels_list\"],\n",
    ")"
   ]
  },
  {
   "cell_type": "code",
   "execution_count": 10,
   "metadata": {},
   "outputs": [
    {
     "name": "stdout",
     "output_type": "stream",
     "text": [
      "output tensor shape: torch.Size([4, 512])\n"
     ]
    }
   ],
   "source": [
    "# forward pass to get\n",
    "output = encodermlp_model(images)\n",
    "print(f\"output tensor shape: {output.shape}\")"
   ]
  },
  {
   "cell_type": "markdown",
   "metadata": {},
   "source": [
    "### Loss"
   ]
  },
  {
   "cell_type": "code",
   "execution_count": 11,
   "metadata": {},
   "outputs": [
    {
     "name": "stdout",
     "output_type": "stream",
     "text": [
      "tensor(1.1159, grad_fn=<NegBackward0>)\n"
     ]
    }
   ],
   "source": [
    "ntxent_threshold = encodermlp_config[\"loss\"][\"ntxent_supervised_threshold\"]\n",
    "loss_function = NTXentLoss(\n",
    "    temperature=encodermlp_config[\"loss\"][\"ntxent_temperature\"],\n",
    "    threshold=ntxent_threshold if isinstance(ntxent_threshold, float) else None,\n",
    "    cyclic_relative_labels=encodermlp_config[\"loss\"][\"ntxent_supervised_cyclic_labels\"],\n",
    ")\n",
    "\n",
    "loss = loss_function(output, position_labels)  # calculate loss\n",
    "print(loss)"
   ]
  },
  {
   "cell_type": "markdown",
   "metadata": {},
   "source": [
    "# General"
   ]
  },
  {
   "cell_type": "markdown",
   "metadata": {},
   "source": [
    "### Seeding"
   ]
  },
  {
   "cell_type": "code",
   "execution_count": 12,
   "metadata": {},
   "outputs": [],
   "source": [
    "# seed the random number generators for random, numpy and torch packages\n",
    "seed = 0\n",
    "seed_everything(seed)"
   ]
  },
  {
   "cell_type": "markdown",
   "metadata": {},
   "source": [
    "### Weight loading"
   ]
  },
  {
   "cell_type": "code",
   "execution_count": 13,
   "metadata": {},
   "outputs": [],
   "source": [
    "# load weights if specified\n",
    "if not unet_config[\"unet\"][\"weights_path\"].lower() == \"none\":\n",
    "    weights_path = Path(unet_config[\"unet\"][\"weights_path\"])\n",
    "    if not weights_path.exists():\n",
    "        raise FileNotFoundError(f\"weights not found at {weights_path}\")\n",
    "    nr_epochs_frozen_encoder = unet_config[\"training\"][\"nr_epochs_frozen_encoder\"]\n",
    "    state_dict = torch.load(weights_path)\n",
    "\n",
    "    # check how many keys match between weights and model\n",
    "    unet_keys = unet_model.state_dict().keys()\n",
    "    nr_matching_keys = sum([key in unet_keys for key in state_dict])\n",
    "    if nr_matching_keys == 0:\n",
    "        raise ValueError(\"No keys match between weights and model.\")\n",
    "\n",
    "    # load weights\n",
    "    unet_model.load_state_dict(state_dict, strict=False)\n",
    "\n",
    "    # freeze encoder if specified\n",
    "    if nr_epochs_frozen_encoder > 0:\n",
    "        unet_model.set_encoder_requires_grad(False)"
   ]
  },
  {
   "cell_type": "markdown",
   "metadata": {},
   "source": [
    "### Early stopping"
   ]
  },
  {
   "cell_type": "code",
   "execution_count": 14,
   "metadata": {},
   "outputs": [],
   "source": [
    "# Initialize early stopper\n",
    "if unet_config[\"training\"][\"early_stopping\"][\"active\"]:\n",
    "    early_stopper = EarlyStopper(\n",
    "        patience=unet_config[\"training\"][\"early_stopping\"][\"patience\"],\n",
    "        min_delta=unet_config[\"training\"][\"early_stopping\"][\"min_delta\"],\n",
    "    )\n",
    "\n",
    "# Example training loop\n",
    "for epoch_nr in range(1):\n",
    "    valid_loss = 0.0\n",
    "\n",
    "    # Check if early stopping should be performed\n",
    "    if unet_config[\"training\"][\"early_stopping\"][\"active\"] and early_stopper.early_stop(\n",
    "        valid_loss\n",
    "    ):\n",
    "        break"
   ]
  }
 ],
 "metadata": {
  "kernelspec": {
   "display_name": "qcardia-dev",
   "language": "python",
   "name": "python3"
  },
  "language_info": {
   "codemirror_mode": {
    "name": "ipython",
    "version": 3
   },
   "file_extension": ".py",
   "mimetype": "text/x-python",
   "name": "python",
   "nbconvert_exporter": "python",
   "pygments_lexer": "ipython3",
   "version": "3.11.9"
  }
 },
 "nbformat": 4,
 "nbformat_minor": 2
}
